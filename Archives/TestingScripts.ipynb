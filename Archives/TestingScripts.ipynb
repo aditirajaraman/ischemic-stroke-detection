{
 "cells": [
  {
   "cell_type": "code",
   "execution_count": 1,
   "id": "9ff7b4f7-5c49-4740-9791-71d225ebe9ad",
   "metadata": {},
   "outputs": [],
   "source": [
    "import pandas as pd\n",
    "import numpy as np"
   ]
  },
  {
   "cell_type": "code",
   "execution_count": 2,
   "id": "34349370-6c90-4e01-ac42-dfffbe2a80c6",
   "metadata": {},
   "outputs": [],
   "source": [
    "df = pd.DataFrame({'A':[1,2,3],\n",
    "                   'B':[4,5,6],\n",
    "                   'C':[7,8,9],\n",
    "                   'D':[1,3,5],\n",
    "                   'E':[5,3,6],\n",
    "                   'F':[7,4,3]})"
   ]
  },
  {
   "cell_type": "code",
   "execution_count": 3,
   "id": "54770966-f634-4ff3-9bd6-a6bccf296751",
   "metadata": {},
   "outputs": [
    {
     "name": "stdout",
     "output_type": "stream",
     "text": [
      "   A  B  C  D  E  F\n",
      "0  1  4  7  1  5  7\n",
      "1  2  5  8  3  3  4\n",
      "2  3  6  9  5  6  3\n"
     ]
    }
   ],
   "source": [
    "print (df)"
   ]
  },
  {
   "cell_type": "code",
   "execution_count": 4,
   "id": "8ca3001e-4587-4d5d-bc79-7e598997cc2e",
   "metadata": {},
   "outputs": [
    {
     "name": "stdout",
     "output_type": "stream",
     "text": [
      "   A  B  C  D  E\n",
      "0  1  4  7  1  5\n",
      "1  2  5  8  3  3\n",
      "2  3  6  9  5  6\n"
     ]
    }
   ],
   "source": [
    "print(df.iloc[:, :-1])"
   ]
  },
  {
   "cell_type": "code",
   "execution_count": 7,
   "id": "f1a68c6f-f83b-4a51-a97c-cbfcca84fd3f",
   "metadata": {},
   "outputs": [
    {
     "name": "stdout",
     "output_type": "stream",
     "text": [
      "   A  B  C  D  E\n",
      "0  1  4  7  1  5\n",
      "1  2  5  8  3  3\n",
      "2  3  6  9  5  6\n"
     ]
    }
   ],
   "source": [
    "print(df.iloc[:, 0:-1])"
   ]
  },
  {
   "cell_type": "code",
   "execution_count": 6,
   "id": "5361b18f-4574-49d3-aa25-255ecdf7e383",
   "metadata": {},
   "outputs": [
    {
     "name": "stdout",
     "output_type": "stream",
     "text": [
      "0    7\n",
      "1    4\n",
      "2    3\n",
      "Name: F, dtype: int64\n"
     ]
    }
   ],
   "source": [
    "print(df.iloc[:,-1])"
   ]
  },
  {
   "cell_type": "code",
   "execution_count": 8,
   "id": "58f2e2c5-cdab-4e9f-9f6b-1c67456c1456",
   "metadata": {},
   "outputs": [
    {
     "name": "stdout",
     "output_type": "stream",
     "text": [
      "0    5\n",
      "1    3\n",
      "2    6\n",
      "Name: E, dtype: int64\n"
     ]
    }
   ],
   "source": [
    "print(df.iloc[:,4])"
   ]
  },
  {
   "cell_type": "code",
   "execution_count": 9,
   "id": "71245d54-450b-4fe6-a85e-db1145a76e7d",
   "metadata": {},
   "outputs": [
    {
     "name": "stdout",
     "output_type": "stream",
     "text": [
      "   A  B  C  D\n",
      "0  1  4  7  1\n",
      "1  2  5  8  3\n",
      "2  3  6  9  5\n"
     ]
    }
   ],
   "source": [
    "print(df.iloc[:,0:4])"
   ]
  }
 ],
 "metadata": {
  "kernelspec": {
   "display_name": "Python 3 (ipykernel)",
   "language": "python",
   "name": "python3"
  },
  "language_info": {
   "codemirror_mode": {
    "name": "ipython",
    "version": 3
   },
   "file_extension": ".py",
   "mimetype": "text/x-python",
   "name": "python",
   "nbconvert_exporter": "python",
   "pygments_lexer": "ipython3",
   "version": "3.9.13"
  }
 },
 "nbformat": 4,
 "nbformat_minor": 5
}
