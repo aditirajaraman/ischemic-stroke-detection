{
 "cells": [
  {
   "cell_type": "markdown",
   "id": "13f49210-4a2f-44b2-aff4-00e456f35a77",
   "metadata": {},
   "source": [
    "<b>-------------------------------------References--------------------------------------</b>"
   ]
  },
  {
   "cell_type": "markdown",
   "id": "db44f088-34a3-4c09-a68a-5de3d2f2fee0",
   "metadata": {},
   "source": [
    "Stroke Prediction - XGBoost %97\n",
    "https://www.kaggle.com/code/ahmtcnbs/stroke-prediction-xgboost-97#3.-Data-Preprocessing"
   ]
  },
  {
   "cell_type": "markdown",
   "id": "684dbf93-730f-4765-ad66-a9f7cf6015bc",
   "metadata": {},
   "source": [
    "<b>#-----------------------------------------Healthcare dataset -----------------------------------------------#</b>"
   ]
  },
  {
   "cell_type": "markdown",
   "id": "f4289558-0cd2-440c-a6f3-4b33844dfeda",
   "metadata": {},
   "source": [
    "1) id: unique identifier\n",
    "2) gender: \"Male\", \"Female\" or \"Other\"\n",
    "3) age: age of the patient\n",
    "4) hypertension: 0 if the patient doesn't have hypertension, 1 if the patient has hypertension\n",
    "5) heart_disease: 0 if the patient doesn't have any heart diseases, 1 if the patient has a heart disease\n",
    "6) ever_married: \"No\" or \"Yes\"\n",
    "7) work_type: \"children\", \"Govt_jov\", \"Never_worked\", \"Private\" or \"Self-employed\"\n",
    "8) Residence_type: \"Rural\" or \"Urban\"\n",
    "9) avg_glucose_level: average glucose level in blood\n",
    "10) bmi: body mass index\n",
    "11) smoking_status: \"formerly smoked\", \"never smoked\", \"smokes\" or \"Unknown\"*\n",
    "12) stroke: 1 if the patient had a stroke or 0 if not"
   ]
  },
  {
   "cell_type": "code",
   "execution_count": 3,
   "id": "f7760ddb-847a-42db-8d9e-dd828a70275a",
   "metadata": {},
   "outputs": [],
   "source": [
    "import seaborn as sns\n",
    "import matplotlib.pyplot as plt\n",
    "import warnings\n",
    "import numpy as np \n",
    "import pandas as pd \n",
    "warnings.filterwarnings('ignore')\n",
    "\n",
    "import os\n",
    "for dirname, _, filenames in os.walk('/kaggle/input'):\n",
    "    for filename in filenames:\n",
    "        print(os.path.join(dirname, filename))\n",
    "\n",
    "from sklearn.linear_model import LogisticRegression\n",
    "from sklearn.neighbors import KNeighborsClassifier\n",
    "from sklearn.naive_bayes import GaussianNB,BernoulliNB\n",
    "from sklearn.svm import SVC\n",
    "from sklearn.tree import DecisionTreeClassifier\n",
    "from sklearn.ensemble import RandomForestClassifier\n",
    "from xgboost import XGBClassifier\n",
    "from sklearn.ensemble import AdaBoostClassifier\n",
    "\n",
    "from sklearn.metrics import accuracy_score,confusion_matrix,roc_auc_score,ConfusionMatrixDisplay,precision_score,recall_score,f1_score,classification_report,roc_curve,plot_roc_curve,auc,precision_recall_curve,plot_precision_recall_curve,average_precision_score\n",
    "from sklearn.model_selection import cross_val_score\n",
    "from sklearn.model_selection import GridSearchCV\n",
    "from sklearn.model_selection import train_test_split\n",
    "\n",
    "from imblearn.over_sampling import SMOTE\n",
    "from sklearn.compose import ColumnTransformer\n",
    "from sklearn.preprocessing import OneHotEncoder\n",
    "from sklearn.preprocessing import LabelEncoder"
   ]
  },
  {
   "cell_type": "code",
   "execution_count": 4,
   "id": "e92ec0a5-0bd1-4303-b3d2-1c31e7b21e12",
   "metadata": {},
   "outputs": [
    {
     "data": {
      "text/html": [
       "<div>\n",
       "<style scoped>\n",
       "    .dataframe tbody tr th:only-of-type {\n",
       "        vertical-align: middle;\n",
       "    }\n",
       "\n",
       "    .dataframe tbody tr th {\n",
       "        vertical-align: top;\n",
       "    }\n",
       "\n",
       "    .dataframe thead th {\n",
       "        text-align: right;\n",
       "    }\n",
       "</style>\n",
       "<table border=\"1\" class=\"dataframe\">\n",
       "  <thead>\n",
       "    <tr style=\"text-align: right;\">\n",
       "      <th></th>\n",
       "      <th>id</th>\n",
       "      <th>gender</th>\n",
       "      <th>age</th>\n",
       "      <th>hypertension</th>\n",
       "      <th>heart_disease</th>\n",
       "      <th>ever_married</th>\n",
       "      <th>work_type</th>\n",
       "      <th>Residence_type</th>\n",
       "      <th>avg_glucose_level</th>\n",
       "      <th>bmi</th>\n",
       "      <th>smoking_status</th>\n",
       "      <th>stroke</th>\n",
       "    </tr>\n",
       "  </thead>\n",
       "  <tbody>\n",
       "    <tr>\n",
       "      <th>0</th>\n",
       "      <td>9046</td>\n",
       "      <td>Male</td>\n",
       "      <td>67.0</td>\n",
       "      <td>0</td>\n",
       "      <td>1</td>\n",
       "      <td>Yes</td>\n",
       "      <td>Private</td>\n",
       "      <td>Urban</td>\n",
       "      <td>228.69</td>\n",
       "      <td>36.6</td>\n",
       "      <td>formerly smoked</td>\n",
       "      <td>1</td>\n",
       "    </tr>\n",
       "    <tr>\n",
       "      <th>1</th>\n",
       "      <td>51676</td>\n",
       "      <td>Female</td>\n",
       "      <td>61.0</td>\n",
       "      <td>0</td>\n",
       "      <td>0</td>\n",
       "      <td>Yes</td>\n",
       "      <td>Self-employed</td>\n",
       "      <td>Rural</td>\n",
       "      <td>202.21</td>\n",
       "      <td>NaN</td>\n",
       "      <td>never smoked</td>\n",
       "      <td>1</td>\n",
       "    </tr>\n",
       "    <tr>\n",
       "      <th>2</th>\n",
       "      <td>31112</td>\n",
       "      <td>Male</td>\n",
       "      <td>80.0</td>\n",
       "      <td>0</td>\n",
       "      <td>1</td>\n",
       "      <td>Yes</td>\n",
       "      <td>Private</td>\n",
       "      <td>Rural</td>\n",
       "      <td>105.92</td>\n",
       "      <td>32.5</td>\n",
       "      <td>never smoked</td>\n",
       "      <td>1</td>\n",
       "    </tr>\n",
       "    <tr>\n",
       "      <th>3</th>\n",
       "      <td>60182</td>\n",
       "      <td>Female</td>\n",
       "      <td>49.0</td>\n",
       "      <td>0</td>\n",
       "      <td>0</td>\n",
       "      <td>Yes</td>\n",
       "      <td>Private</td>\n",
       "      <td>Urban</td>\n",
       "      <td>171.23</td>\n",
       "      <td>34.4</td>\n",
       "      <td>smokes</td>\n",
       "      <td>1</td>\n",
       "    </tr>\n",
       "    <tr>\n",
       "      <th>4</th>\n",
       "      <td>1665</td>\n",
       "      <td>Female</td>\n",
       "      <td>79.0</td>\n",
       "      <td>1</td>\n",
       "      <td>0</td>\n",
       "      <td>Yes</td>\n",
       "      <td>Self-employed</td>\n",
       "      <td>Rural</td>\n",
       "      <td>174.12</td>\n",
       "      <td>24.0</td>\n",
       "      <td>never smoked</td>\n",
       "      <td>1</td>\n",
       "    </tr>\n",
       "  </tbody>\n",
       "</table>\n",
       "</div>"
      ],
      "text/plain": [
       "      id  gender   age  hypertension  heart_disease ever_married  \\\n",
       "0   9046    Male  67.0             0              1          Yes   \n",
       "1  51676  Female  61.0             0              0          Yes   \n",
       "2  31112    Male  80.0             0              1          Yes   \n",
       "3  60182  Female  49.0             0              0          Yes   \n",
       "4   1665  Female  79.0             1              0          Yes   \n",
       "\n",
       "       work_type Residence_type  avg_glucose_level   bmi   smoking_status  \\\n",
       "0        Private          Urban             228.69  36.6  formerly smoked   \n",
       "1  Self-employed          Rural             202.21   NaN     never smoked   \n",
       "2        Private          Rural             105.92  32.5     never smoked   \n",
       "3        Private          Urban             171.23  34.4           smokes   \n",
       "4  Self-employed          Rural             174.12  24.0     never smoked   \n",
       "\n",
       "   stroke  \n",
       "0       1  \n",
       "1       1  \n",
       "2       1  \n",
       "3       1  \n",
       "4       1  "
      ]
     },
     "execution_count": 4,
     "metadata": {},
     "output_type": "execute_result"
    }
   ],
   "source": [
    "df = pd.read_csv('healthcare-dataset-stroke-data.csv')\n",
    "df.head()"
   ]
  },
  {
   "cell_type": "code",
   "execution_count": 3,
   "id": "5dc57515-3423-4709-805f-74ea274c8e9a",
   "metadata": {},
   "outputs": [
    {
     "name": "stdout",
     "output_type": "stream",
     "text": [
      "<class 'pandas.core.frame.DataFrame'>\n",
      "RangeIndex: 5110 entries, 0 to 5109\n",
      "Data columns (total 12 columns):\n",
      " #   Column             Non-Null Count  Dtype  \n",
      "---  ------             --------------  -----  \n",
      " 0   id                 5110 non-null   int64  \n",
      " 1   gender             5110 non-null   object \n",
      " 2   age                5110 non-null   float64\n",
      " 3   hypertension       5110 non-null   int64  \n",
      " 4   heart_disease      5110 non-null   int64  \n",
      " 5   ever_married       5110 non-null   object \n",
      " 6   work_type          5110 non-null   object \n",
      " 7   Residence_type     5110 non-null   object \n",
      " 8   avg_glucose_level  5110 non-null   float64\n",
      " 9   bmi                4909 non-null   float64\n",
      " 10  smoking_status     5110 non-null   object \n",
      " 11  stroke             5110 non-null   int64  \n",
      "dtypes: float64(3), int64(4), object(5)\n",
      "memory usage: 479.2+ KB\n"
     ]
    }
   ],
   "source": [
    "df.info()"
   ]
  },
  {
   "cell_type": "code",
   "execution_count": 4,
   "id": "c42c2259-7cdf-48a0-9101-9ac46ea5012f",
   "metadata": {},
   "outputs": [
    {
     "data": {
      "text/plain": [
       "id                     0\n",
       "gender                 0\n",
       "age                    0\n",
       "hypertension           0\n",
       "heart_disease          0\n",
       "ever_married           0\n",
       "work_type              0\n",
       "Residence_type         0\n",
       "avg_glucose_level      0\n",
       "bmi                  201\n",
       "smoking_status         0\n",
       "stroke                 0\n",
       "dtype: int64"
      ]
     },
     "execution_count": 4,
     "metadata": {},
     "output_type": "execute_result"
    }
   ],
   "source": [
    "df.isnull().sum()"
   ]
  },
  {
   "cell_type": "markdown",
   "id": "11e8b7ae-c98e-42fd-a8bf-f948961de9b5",
   "metadata": {},
   "source": [
    "-----------------------Handle Missing Values-------------------"
   ]
  },
  {
   "cell_type": "code",
   "execution_count": 7,
   "id": "af3923b5-eb71-4e5d-975b-2999aa0068da",
   "metadata": {},
   "outputs": [],
   "source": [
    "df.bmi.replace(to_replace=np.nan, value=df.bmi.mean(),inplace=True)"
   ]
  },
  {
   "cell_type": "code",
   "execution_count": 6,
   "id": "d616be28-d39b-4d0d-b1bd-10c1f6566ec4",
   "metadata": {},
   "outputs": [
    {
     "data": {
      "text/html": [
       "<div>\n",
       "<style scoped>\n",
       "    .dataframe tbody tr th:only-of-type {\n",
       "        vertical-align: middle;\n",
       "    }\n",
       "\n",
       "    .dataframe tbody tr th {\n",
       "        vertical-align: top;\n",
       "    }\n",
       "\n",
       "    .dataframe thead th {\n",
       "        text-align: right;\n",
       "    }\n",
       "</style>\n",
       "<table border=\"1\" class=\"dataframe\">\n",
       "  <thead>\n",
       "    <tr style=\"text-align: right;\">\n",
       "      <th></th>\n",
       "      <th>id</th>\n",
       "      <th>age</th>\n",
       "      <th>hypertension</th>\n",
       "      <th>heart_disease</th>\n",
       "      <th>avg_glucose_level</th>\n",
       "      <th>bmi</th>\n",
       "      <th>stroke</th>\n",
       "    </tr>\n",
       "  </thead>\n",
       "  <tbody>\n",
       "    <tr>\n",
       "      <th>count</th>\n",
       "      <td>5110.000000</td>\n",
       "      <td>5110.000000</td>\n",
       "      <td>5110.000000</td>\n",
       "      <td>5110.000000</td>\n",
       "      <td>5110.000000</td>\n",
       "      <td>5110.000000</td>\n",
       "      <td>5110.000000</td>\n",
       "    </tr>\n",
       "    <tr>\n",
       "      <th>mean</th>\n",
       "      <td>36517.829354</td>\n",
       "      <td>43.226614</td>\n",
       "      <td>0.097456</td>\n",
       "      <td>0.054012</td>\n",
       "      <td>106.147677</td>\n",
       "      <td>28.893237</td>\n",
       "      <td>0.048728</td>\n",
       "    </tr>\n",
       "    <tr>\n",
       "      <th>std</th>\n",
       "      <td>21161.721625</td>\n",
       "      <td>22.612647</td>\n",
       "      <td>0.296607</td>\n",
       "      <td>0.226063</td>\n",
       "      <td>45.283560</td>\n",
       "      <td>7.698018</td>\n",
       "      <td>0.215320</td>\n",
       "    </tr>\n",
       "    <tr>\n",
       "      <th>min</th>\n",
       "      <td>67.000000</td>\n",
       "      <td>0.080000</td>\n",
       "      <td>0.000000</td>\n",
       "      <td>0.000000</td>\n",
       "      <td>55.120000</td>\n",
       "      <td>10.300000</td>\n",
       "      <td>0.000000</td>\n",
       "    </tr>\n",
       "    <tr>\n",
       "      <th>25%</th>\n",
       "      <td>17741.250000</td>\n",
       "      <td>25.000000</td>\n",
       "      <td>0.000000</td>\n",
       "      <td>0.000000</td>\n",
       "      <td>77.245000</td>\n",
       "      <td>23.800000</td>\n",
       "      <td>0.000000</td>\n",
       "    </tr>\n",
       "    <tr>\n",
       "      <th>50%</th>\n",
       "      <td>36932.000000</td>\n",
       "      <td>45.000000</td>\n",
       "      <td>0.000000</td>\n",
       "      <td>0.000000</td>\n",
       "      <td>91.885000</td>\n",
       "      <td>28.400000</td>\n",
       "      <td>0.000000</td>\n",
       "    </tr>\n",
       "    <tr>\n",
       "      <th>75%</th>\n",
       "      <td>54682.000000</td>\n",
       "      <td>61.000000</td>\n",
       "      <td>0.000000</td>\n",
       "      <td>0.000000</td>\n",
       "      <td>114.090000</td>\n",
       "      <td>32.800000</td>\n",
       "      <td>0.000000</td>\n",
       "    </tr>\n",
       "    <tr>\n",
       "      <th>max</th>\n",
       "      <td>72940.000000</td>\n",
       "      <td>82.000000</td>\n",
       "      <td>1.000000</td>\n",
       "      <td>1.000000</td>\n",
       "      <td>271.740000</td>\n",
       "      <td>97.600000</td>\n",
       "      <td>1.000000</td>\n",
       "    </tr>\n",
       "  </tbody>\n",
       "</table>\n",
       "</div>"
      ],
      "text/plain": [
       "                 id          age  hypertension  heart_disease  \\\n",
       "count   5110.000000  5110.000000   5110.000000    5110.000000   \n",
       "mean   36517.829354    43.226614      0.097456       0.054012   \n",
       "std    21161.721625    22.612647      0.296607       0.226063   \n",
       "min       67.000000     0.080000      0.000000       0.000000   \n",
       "25%    17741.250000    25.000000      0.000000       0.000000   \n",
       "50%    36932.000000    45.000000      0.000000       0.000000   \n",
       "75%    54682.000000    61.000000      0.000000       0.000000   \n",
       "max    72940.000000    82.000000      1.000000       1.000000   \n",
       "\n",
       "       avg_glucose_level          bmi       stroke  \n",
       "count        5110.000000  5110.000000  5110.000000  \n",
       "mean          106.147677    28.893237     0.048728  \n",
       "std            45.283560     7.698018     0.215320  \n",
       "min            55.120000    10.300000     0.000000  \n",
       "25%            77.245000    23.800000     0.000000  \n",
       "50%            91.885000    28.400000     0.000000  \n",
       "75%           114.090000    32.800000     0.000000  \n",
       "max           271.740000    97.600000     1.000000  "
      ]
     },
     "execution_count": 6,
     "metadata": {},
     "output_type": "execute_result"
    }
   ],
   "source": [
    "df.describe()"
   ]
  },
  {
   "cell_type": "code",
   "execution_count": 6,
   "id": "61380f18-6d0b-4b63-a060-9e117fe8dafd",
   "metadata": {},
   "outputs": [
    {
     "name": "stdout",
     "output_type": "stream",
     "text": [
      "Female    2994\n",
      "Male      2115\n",
      "Other        1\n",
      "Name: gender, dtype: int64\n"
     ]
    },
    {
     "data": {
      "image/png": "[encoded data removed]",
      "text/plain": [
       "<Figure size 640x480 with 1 Axes>"
      ]
     },
     "metadata": {},
     "output_type": "display_data"
    }
   ],
   "source": [
    "print(df.gender.value_counts())\n",
    "sns.set_theme(style='darkgrid')\n",
    "ax = sns.countplot(data=df,x='gender')"
   ]
  },
  {
   "cell_type": "code",
   "execution_count": 8,
   "id": "bad0eb7d-ca72-43b5-8584-56e35766d5d9",
   "metadata": {},
   "outputs": [
    {
     "data": {
      "text/plain": [
       "<AxesSubplot:>"
      ]
     },
     "execution_count": 8,
     "metadata": {},
     "output_type": "execute_result"
    },
    {
     "data": {
      "image/png": "[encoded data removed]",
      "text/plain": [
       "<Figure size 1100x900 with 2 Axes>"
      ]
     },
     "metadata": {},
     "output_type": "display_data"
    }
   ],
   "source": [
    "corr = df.corr()\n",
    "\n",
    "# generate a mask for the upper triangle\n",
    "mask = np.triu(np.ones_like(corr,dtype=bool))\n",
    "\n",
    "# set up the matplotlib figure\n",
    "f, ax = plt.subplots(figsize=(11,9))\n",
    "\n",
    "# generate a custom diverging colormap\n",
    "cmap = sns.diverging_palette(230,20,as_cmap=True)\n",
    "\n",
    "#draw the heatpmap with the mask and correct aspect ratio\n",
    "sns.heatmap(corr,mask=mask,cmap=cmap,vmax=.3,center=0,square=True,linewidths=.5,cbar_kws={'shrink':.5})"
   ]
  },
  {
   "cell_type": "markdown",
   "id": "fbe44efd-60bd-4a63-9768-9fe6e916f5b6",
   "metadata": {},
   "source": [
    "--------------------------------------Data Visualization------------------------------------"
   ]
  },
  {
   "cell_type": "code",
   "execution_count": 9,
   "id": "05059c3d-6b48-4336-afe1-716803890c86",
   "metadata": {},
   "outputs": [
    {
     "name": "stdout",
     "output_type": "stream",
     "text": [
      "Yes    3353\n",
      "No     1757\n",
      "Name: ever_married, dtype: int64\n"
     ]
    },
    {
     "data": {
      "image/png": "[encoded data removed]",
      "text/plain": [
       "<Figure size 640x480 with 1 Axes>"
      ]
     },
     "metadata": {},
     "output_type": "display_data"
    }
   ],
   "source": [
    "print(df.ever_married.value_counts())\n",
    "sns.set_theme(style='darkgrid')\n",
    "ax = sns.countplot(data=df, x='ever_married')"
   ]
  },
  {
   "cell_type": "markdown",
   "id": "45eca41a-d843-46d7-ad6e-5568c86eead1",
   "metadata": {},
   "source": [
    "-----------------------------------Data Preprocessing-----------------------------------------"
   ]
  },
  {
   "cell_type": "code",
   "execution_count": 10,
   "id": "a1f163f5-1982-411f-96e9-198e8023b6ab",
   "metadata": {},
   "outputs": [],
   "source": [
    "#Label Encoding\n",
    "le = LabelEncoder()\n",
    "df['gender'] = le.fit_transform(df['gender'])\n",
    "df['ever_married'] = le.fit_transform(df['ever_married'])\n",
    "df['work_type'] = le.fit_transform(df['work_type'])\n",
    "df['Residence_type'] = le.fit_transform(df['Residence_type'])\n",
    "df['smoking_status'] = le.fit_transform(df['smoking_status'])"
   ]
  },
  {
   "cell_type": "code",
   "execution_count": 12,
   "id": "7f17a6b8-6f16-49ea-900d-0da25255f2c3",
   "metadata": {},
   "outputs": [
    {
     "name": "stdout",
     "output_type": "stream",
     "text": [
      "X Shape (5110, 10)\n",
      "Y Shape (5110,)\n"
     ]
    }
   ],
   "source": [
    "# X and Y Splitting\n",
    "x = df.iloc[:,1:-1].values\n",
    "y = df.iloc[:,-1].values\n",
    "\n",
    "print('X Shape', x.shape)\n",
    "print('Y Shape',y.shape)"
   ]
  },
  {
   "cell_type": "code",
   "execution_count": 14,
   "id": "ca886e88-6d93-4964-a776-7972a49ff82d",
   "metadata": {},
   "outputs": [
    {
     "name": "stdout",
     "output_type": "stream",
     "text": [
      "<class 'pandas.core.frame.DataFrame'>\n",
      "RangeIndex: 5110 entries, 0 to 5109\n",
      "Data columns (total 12 columns):\n",
      " #   Column             Non-Null Count  Dtype  \n",
      "---  ------             --------------  -----  \n",
      " 0   id                 5110 non-null   int64  \n",
      " 1   gender             5110 non-null   int32  \n",
      " 2   age                5110 non-null   float64\n",
      " 3   hypertension       5110 non-null   int64  \n",
      " 4   heart_disease      5110 non-null   int64  \n",
      " 5   ever_married       5110 non-null   int32  \n",
      " 6   work_type          5110 non-null   int32  \n",
      " 7   Residence_type     5110 non-null   int32  \n",
      " 8   avg_glucose_level  5110 non-null   float64\n",
      " 9   bmi                5110 non-null   float64\n",
      " 10  smoking_status     5110 non-null   int32  \n",
      " 11  stroke             5110 non-null   int64  \n",
      "dtypes: float64(3), int32(5), int64(4)\n",
      "memory usage: 379.4 KB\n"
     ]
    }
   ],
   "source": [
    "df.info()"
   ]
  },
  {
   "cell_type": "code",
   "execution_count": 10,
   "id": "6b253166-aca5-4d9b-abf7-3cb4d4ef80ff",
   "metadata": {},
   "outputs": [],
   "source": [
    "# Column Transformator and OneHotEncoder\n",
    "ct = ColumnTransformer(transformers=[('encoder',OneHotEncoder(),[0,5,9])],remainder='passthrough')\n",
    "x = np.array(ct.fit_transform(x))"
   ]
  },
  {
   "cell_type": "code",
   "execution_count": 11,
   "id": "088255f7-6d3b-404a-b6b2-527a62c18305",
   "metadata": {},
   "outputs": [
    {
     "name": "stdout",
     "output_type": "stream",
     "text": [
      "Number transations x_train df (4088, 19)\n",
      "Number transations x_test df (1022, 19)\n",
      "Number transations y_train df (4088,)\n",
      "Number transations y_test df (1022,)\n"
     ]
    }
   ],
   "source": [
    "# Train Test Split\n",
    "X_train,X_test,y_train,y_test = train_test_split(x,y,test_size=0.2,random_state=0)\n",
    "\n",
    "print('Number transations x_train df',X_train.shape)\n",
    "print('Number transations x_test df',X_test.shape)\n",
    "print('Number transations y_train df',y_train.shape)\n",
    "print('Number transations y_test df',y_test.shape)"
   ]
  },
  {
   "cell_type": "markdown",
   "id": "88530d0a-0480-4737-95cc-5d5eb6dace6d",
   "metadata": {},
   "source": [
    "---------------------------Smote Analysis - Handle Imbalanced Data--------------------------"
   ]
  },
  {
   "cell_type": "code",
   "execution_count": 12,
   "id": "c9f883ee-c532-4a9b-ac84-7904ad97a260",
   "metadata": {},
   "outputs": [
    {
     "name": "stdout",
     "output_type": "stream",
     "text": [
      "Before OverSampling, counts of label 1: 195\n",
      "Before OverSampling, counts of label 0: 3893 \n",
      "\n"
     ]
    }
   ],
   "source": [
    "print('Before OverSampling, counts of label 1: {}'.format(sum(y_train==1)))\n",
    "print('Before OverSampling, counts of label 0: {} \\n'.format(sum(y_train==0)))"
   ]
  },
  {
   "cell_type": "code",
   "execution_count": 13,
   "id": "fffbef1d-dc83-4a4c-bebb-587d516a7c44",
   "metadata": {},
   "outputs": [
    {
     "name": "stdout",
     "output_type": "stream",
     "text": [
      "After OverSampling, the shape of train_x: (7786, 19)\n",
      "After OverSampling, the shape of train_y: (7786,)\n",
      "After OverSampling, counts of label 1: 3893\n",
      "After OverSampling, counts of label 0: 3893\n"
     ]
    }
   ],
   "source": [
    "sm = SMOTE(random_state=2)\n",
    "X_train_res, y_train_res = sm.fit_resample(X_train,y_train.ravel())\n",
    "\n",
    "print('After OverSampling, the shape of train_x: {}'.format(X_train_res.shape))\n",
    "print('After OverSampling, the shape of train_y: {}'.format(y_train_res.shape))\n",
    "\n",
    "print('After OverSampling, counts of label 1: {}'.format(sum(y_train_res == 1)))\n",
    "print('After OverSampling, counts of label 0: {}'.format(sum(y_train_res == 0)))"
   ]
  },
  {
   "cell_type": "markdown",
   "id": "c6df8fee-52a5-4e93-9d8d-5765012a1077",
   "metadata": {},
   "source": [
    "----------------------------- Model Selection---------------------------"
   ]
  },
  {
   "cell_type": "code",
   "execution_count": 14,
   "id": "71bc9b20-686f-4617-b81a-823ed4f791aa",
   "metadata": {},
   "outputs": [],
   "source": [
    "models = []\n",
    "models.append(['XGBClassifier',XGBClassifier(learning_rate=0.1,objective='binary:logistic',random_state=0,eval_metric='mlogloss')])\n",
    "models.append(['Logistic Regression',LogisticRegression(random_state=0)])\n",
    "models.append(['SVM',SVC(random_state=0)])\n",
    "models.append(['KNeigbors',KNeighborsClassifier()])\n",
    "models.append(['GaussianNB',GaussianNB()])\n",
    "models.append(['BernoulliNB',BernoulliNB()])\n",
    "models.append(['DecisionTree',DecisionTreeClassifier(random_state=0)])\n",
    "models.append(['RandomForest',RandomForestClassifier(random_state=0)])\n",
    "models.append(['AdaBoostClassifier',AdaBoostClassifier()])"
   ]
  },
  {
   "cell_type": "code",
   "execution_count": 15,
   "id": "1ab288db-4805-4205-abc7-82c83af4c122",
   "metadata": {},
   "outputs": [
    {
     "name": "stdout",
     "output_type": "stream",
     "text": [
      "XGBClassifier :\n",
      "[[965   3]\n",
      " [ 50   4]]\n",
      "Accuracy Score:  0.9481409001956947\n",
      "\n",
      "K-Fold Validation Mean Accuracy: 97.00 %\n",
      "\n",
      "Standard Deviation: 7.18 %\n",
      "\n",
      "ROC AUC Score: 0.54 %\n",
      "\n",
      "Precision: 0.57 %\n",
      "\n",
      "Recall: 0.07 %\n",
      "\n",
      "F1 Score: 0.13 %\n",
      "----------------------------------------\n",
      "\n",
      "Logistic Regression :\n",
      "[[757 211]\n",
      " [ 15  39]]\n",
      "Accuracy Score:  0.7788649706457925\n",
      "\n",
      "K-Fold Validation Mean Accuracy: 78.63 %\n",
      "\n",
      "Standard Deviation: 1.71 %\n",
      "\n",
      "ROC AUC Score: 0.75 %\n",
      "\n",
      "Precision: 0.16 %\n",
      "\n",
      "Recall: 0.72 %\n",
      "\n",
      "F1 Score: 0.26 %\n",
      "----------------------------------------\n",
      "\n",
      "SVM :\n",
      "[[696 272]\n",
      " [ 13  41]]\n",
      "Accuracy Score:  0.7211350293542075\n",
      "\n",
      "K-Fold Validation Mean Accuracy: 78.50 %\n",
      "\n",
      "Standard Deviation: 1.88 %\n",
      "\n",
      "ROC AUC Score: 0.74 %\n",
      "\n",
      "Precision: 0.13 %\n",
      "\n",
      "Recall: 0.76 %\n",
      "\n",
      "F1 Score: 0.22 %\n",
      "----------------------------------------\n",
      "\n",
      "KNeigbors :\n",
      "[[808 160]\n",
      " [ 26  28]]\n",
      "Accuracy Score:  0.8180039138943248\n",
      "\n",
      "K-Fold Validation Mean Accuracy: 89.12 %\n",
      "\n",
      "Standard Deviation: 0.99 %\n",
      "\n",
      "ROC AUC Score: 0.68 %\n",
      "\n",
      "Precision: 0.15 %\n",
      "\n",
      "Recall: 0.52 %\n",
      "\n",
      "F1 Score: 0.23 %\n",
      "----------------------------------------\n",
      "\n",
      "GaussianNB :\n",
      "[[287 681]\n",
      " [  2  52]]\n",
      "Accuracy Score:  0.33170254403131116\n",
      "\n",
      "K-Fold Validation Mean Accuracy: 64.50 %\n",
      "\n",
      "Standard Deviation: 1.79 %\n",
      "\n",
      "ROC AUC Score: 0.63 %\n",
      "\n",
      "Precision: 0.07 %\n",
      "\n",
      "Recall: 0.96 %\n",
      "\n",
      "F1 Score: 0.13 %\n",
      "----------------------------------------\n",
      "\n",
      "BernoulliNB :\n",
      "[[840 128]\n",
      " [ 31  23]]\n",
      "Accuracy Score:  0.8444227005870841\n",
      "\n",
      "K-Fold Validation Mean Accuracy: 87.09 %\n",
      "\n",
      "Standard Deviation: 3.88 %\n",
      "\n",
      "ROC AUC Score: 0.65 %\n",
      "\n",
      "Precision: 0.15 %\n",
      "\n",
      "Recall: 0.43 %\n",
      "\n",
      "F1 Score: 0.22 %\n",
      "----------------------------------------\n",
      "\n",
      "DecisionTree :\n",
      "[[905  63]\n",
      " [ 42  12]]\n",
      "Accuracy Score:  0.8972602739726028\n",
      "\n",
      "K-Fold Validation Mean Accuracy: 94.93 %\n",
      "\n",
      "Standard Deviation: 5.82 %\n",
      "\n",
      "ROC AUC Score: 0.58 %\n",
      "\n",
      "Precision: 0.16 %\n",
      "\n",
      "Recall: 0.22 %\n",
      "\n",
      "F1 Score: 0.19 %\n",
      "----------------------------------------\n",
      "\n",
      "RandomForest :\n",
      "[[963   5]\n",
      " [ 52   2]]\n",
      "Accuracy Score:  0.9442270058708415\n",
      "\n",
      "K-Fold Validation Mean Accuracy: 97.16 %\n",
      "\n",
      "Standard Deviation: 6.76 %\n",
      "\n",
      "ROC AUC Score: 0.52 %\n",
      "\n",
      "Precision: 0.29 %\n",
      "\n",
      "Recall: 0.04 %\n",
      "\n",
      "F1 Score: 0.07 %\n",
      "----------------------------------------\n",
      "\n",
      "AdaBoostClassifier :\n",
      "[[953  15]\n",
      " [ 50   4]]\n",
      "Accuracy Score:  0.9363992172211351\n",
      "\n",
      "K-Fold Validation Mean Accuracy: 95.93 %\n",
      "\n",
      "Standard Deviation: 7.08 %\n",
      "\n",
      "ROC AUC Score: 0.53 %\n",
      "\n",
      "Precision: 0.21 %\n",
      "\n",
      "Recall: 0.07 %\n",
      "\n",
      "F1 Score: 0.11 %\n",
      "----------------------------------------\n",
      "\n"
     ]
    }
   ],
   "source": [
    "lst_1 = []\n",
    "for m in range(len(models)):\n",
    "    lst_2 = []\n",
    "    model = models[m][1]\n",
    "    model.fit(X_train_res,y_train_res)\n",
    "    y_pred = model.predict(X_test)\n",
    "    cm = confusion_matrix(y_test,y_pred)\n",
    "    accuracies = cross_val_score(estimator= model, X = X_train_res,y = y_train_res, cv=10)\n",
    "\n",
    "# k-fOLD Validation\n",
    "    roc = roc_auc_score(y_test,y_pred)\n",
    "    precision = precision_score(y_test,y_pred)\n",
    "    recall = recall_score(y_test,y_pred)\n",
    "    f1 = f1_score(y_test,y_pred)\n",
    "    print(models[m][0],':')\n",
    "    print(cm)\n",
    "    print('Accuracy Score: ',accuracy_score(y_test,y_pred))\n",
    "    print('')\n",
    "    print('K-Fold Validation Mean Accuracy: {:.2f} %'.format(accuracies.mean()*100))\n",
    "    print('')\n",
    "    print('Standard Deviation: {:.2f} %'.format(accuracies.std()*100))\n",
    "    print('')\n",
    "    print('ROC AUC Score: {:.2f} %'.format(roc))\n",
    "    print('')\n",
    "    print('Precision: {:.2f} %'.format(precision))\n",
    "    print('')\n",
    "    print('Recall: {:.2f} %'.format(recall))\n",
    "    print('')\n",
    "    print('F1 Score: {:.2f} %'.format(f1))\n",
    "    print('-'*40)\n",
    "    print('')\n",
    "    lst_2.append(models[m][0])\n",
    "    lst_2.append(accuracy_score(y_test,y_pred)*100)\n",
    "    lst_2.append(accuracies.mean()*100)\n",
    "    lst_2.append(accuracies.std()*100)\n",
    "    lst_2.append(roc)\n",
    "    lst_2.append(precision)\n",
    "    lst_2.append(recall)\n",
    "    lst_2.append(f1)\n",
    "    lst_1.append(lst_2)"
   ]
  },
  {
   "cell_type": "code",
   "execution_count": 16,
   "id": "94f146c0-1445-4954-8440-09b53fa23e7f",
   "metadata": {},
   "outputs": [
    {
     "data": {
      "text/html": [
       "<div>\n",
       "<style scoped>\n",
       "    .dataframe tbody tr th:only-of-type {\n",
       "        vertical-align: middle;\n",
       "    }\n",
       "\n",
       "    .dataframe tbody tr th {\n",
       "        vertical-align: top;\n",
       "    }\n",
       "\n",
       "    .dataframe thead th {\n",
       "        text-align: right;\n",
       "    }\n",
       "</style>\n",
       "<table border=\"1\" class=\"dataframe\">\n",
       "  <thead>\n",
       "    <tr style=\"text-align: right;\">\n",
       "      <th></th>\n",
       "      <th>Model</th>\n",
       "      <th>Accuracy</th>\n",
       "      <th>K-Fold Mean Accuracy</th>\n",
       "      <th>Std.Deviation</th>\n",
       "      <th>ROC_AUC</th>\n",
       "      <th>Precision</th>\n",
       "      <th>Recall</th>\n",
       "      <th>F1 Score</th>\n",
       "    </tr>\n",
       "  </thead>\n",
       "  <tbody>\n",
       "    <tr>\n",
       "      <th>0</th>\n",
       "      <td>XGBClassifier</td>\n",
       "      <td>94.814090</td>\n",
       "      <td>96.995786</td>\n",
       "      <td>7.175558</td>\n",
       "      <td>0.535487</td>\n",
       "      <td>0.571429</td>\n",
       "      <td>0.074074</td>\n",
       "      <td>0.131148</td>\n",
       "    </tr>\n",
       "    <tr>\n",
       "      <th>7</th>\n",
       "      <td>RandomForest</td>\n",
       "      <td>94.422701</td>\n",
       "      <td>97.162683</td>\n",
       "      <td>6.762548</td>\n",
       "      <td>0.515936</td>\n",
       "      <td>0.285714</td>\n",
       "      <td>0.037037</td>\n",
       "      <td>0.065574</td>\n",
       "    </tr>\n",
       "    <tr>\n",
       "      <th>8</th>\n",
       "      <td>AdaBoostClassifier</td>\n",
       "      <td>93.639922</td>\n",
       "      <td>95.929855</td>\n",
       "      <td>7.080809</td>\n",
       "      <td>0.529289</td>\n",
       "      <td>0.210526</td>\n",
       "      <td>0.074074</td>\n",
       "      <td>0.109589</td>\n",
       "    </tr>\n",
       "    <tr>\n",
       "      <th>6</th>\n",
       "      <td>DecisionTree</td>\n",
       "      <td>89.726027</td>\n",
       "      <td>94.927664</td>\n",
       "      <td>5.821712</td>\n",
       "      <td>0.578570</td>\n",
       "      <td>0.160000</td>\n",
       "      <td>0.222222</td>\n",
       "      <td>0.186047</td>\n",
       "    </tr>\n",
       "    <tr>\n",
       "      <th>5</th>\n",
       "      <td>BernoulliNB</td>\n",
       "      <td>84.442270</td>\n",
       "      <td>87.092872</td>\n",
       "      <td>3.878098</td>\n",
       "      <td>0.646847</td>\n",
       "      <td>0.152318</td>\n",
       "      <td>0.425926</td>\n",
       "      <td>0.224390</td>\n",
       "    </tr>\n",
       "    <tr>\n",
       "      <th>3</th>\n",
       "      <td>KNeigbors</td>\n",
       "      <td>81.800391</td>\n",
       "      <td>89.121262</td>\n",
       "      <td>0.992939</td>\n",
       "      <td>0.676615</td>\n",
       "      <td>0.148936</td>\n",
       "      <td>0.518519</td>\n",
       "      <td>0.231405</td>\n",
       "    </tr>\n",
       "    <tr>\n",
       "      <th>1</th>\n",
       "      <td>Logistic Regression</td>\n",
       "      <td>77.886497</td>\n",
       "      <td>78.627913</td>\n",
       "      <td>1.711338</td>\n",
       "      <td>0.752124</td>\n",
       "      <td>0.156000</td>\n",
       "      <td>0.722222</td>\n",
       "      <td>0.256579</td>\n",
       "    </tr>\n",
       "    <tr>\n",
       "      <th>2</th>\n",
       "      <td>SVM</td>\n",
       "      <td>72.113503</td>\n",
       "      <td>78.499724</td>\n",
       "      <td>1.881722</td>\n",
       "      <td>0.739134</td>\n",
       "      <td>0.130990</td>\n",
       "      <td>0.759259</td>\n",
       "      <td>0.223433</td>\n",
       "    </tr>\n",
       "    <tr>\n",
       "      <th>4</th>\n",
       "      <td>GaussianNB</td>\n",
       "      <td>33.170254</td>\n",
       "      <td>64.500315</td>\n",
       "      <td>1.789182</td>\n",
       "      <td>0.629725</td>\n",
       "      <td>0.070941</td>\n",
       "      <td>0.962963</td>\n",
       "      <td>0.132147</td>\n",
       "    </tr>\n",
       "  </tbody>\n",
       "</table>\n",
       "</div>"
      ],
      "text/plain": [
       "                 Model   Accuracy  K-Fold Mean Accuracy  Std.Deviation  \\\n",
       "0        XGBClassifier  94.814090             96.995786       7.175558   \n",
       "7         RandomForest  94.422701             97.162683       6.762548   \n",
       "8   AdaBoostClassifier  93.639922             95.929855       7.080809   \n",
       "6         DecisionTree  89.726027             94.927664       5.821712   \n",
       "5          BernoulliNB  84.442270             87.092872       3.878098   \n",
       "3            KNeigbors  81.800391             89.121262       0.992939   \n",
       "1  Logistic Regression  77.886497             78.627913       1.711338   \n",
       "2                  SVM  72.113503             78.499724       1.881722   \n",
       "4           GaussianNB  33.170254             64.500315       1.789182   \n",
       "\n",
       "    ROC_AUC  Precision    Recall  F1 Score  \n",
       "0  0.535487   0.571429  0.074074  0.131148  \n",
       "7  0.515936   0.285714  0.037037  0.065574  \n",
       "8  0.529289   0.210526  0.074074  0.109589  \n",
       "6  0.578570   0.160000  0.222222  0.186047  \n",
       "5  0.646847   0.152318  0.425926  0.224390  \n",
       "3  0.676615   0.148936  0.518519  0.231405  \n",
       "1  0.752124   0.156000  0.722222  0.256579  \n",
       "2  0.739134   0.130990  0.759259  0.223433  \n",
       "4  0.629725   0.070941  0.962963  0.132147  "
      ]
     },
     "execution_count": 16,
     "metadata": {},
     "output_type": "execute_result"
    }
   ],
   "source": [
    "df2 = pd.DataFrame(lst_1,columns=['Model','Accuracy','K-Fold Mean Accuracy','Std.Deviation','ROC_AUC','Precision','Recall','F1 Score'])\n",
    "\n",
    "df2.sort_values(by=['Accuracy','K-Fold Mean Accuracy'],inplace=True,ascending=False)\n",
    "df2"
   ]
  },
  {
   "cell_type": "code",
   "execution_count": 17,
   "id": "c7237642-0a38-4002-a07e-3b82a17f251f",
   "metadata": {},
   "outputs": [
    {
     "data": {
      "image/png": "[encoded data removed]",
      "text/plain": [
       "<Figure size 640x480 with 1 Axes>"
      ]
     },
     "metadata": {},
     "output_type": "display_data"
    }
   ],
   "source": [
    "sns.barplot(x='Accuracy',y='Model',data=df2,color='b')\n",
    "plt.title('Model Compare Graphic');"
   ]
  },
  {
   "cell_type": "markdown",
   "id": "ce513c54-3fc8-40e3-ac9c-945947452282",
   "metadata": {},
   "source": [
    "----Model Tuning ----------"
   ]
  },
  {
   "cell_type": "code",
   "execution_count": 18,
   "id": "33ab7190-643a-4a84-99f0-9addf58118dc",
   "metadata": {},
   "outputs": [],
   "source": [
    "grid_models = [(XGBClassifier(), [{'learning_rate': [0.01, 0.05, 0.1], 'eval_metric': ['error']}]),\n",
    "               (KNeighborsClassifier(),[{'n_neighbors':[5,7,8,10], 'metric': ['euclidean', 'manhattan', 'chebyshev', 'minkowski']}]), \n",
    "               (DecisionTreeClassifier(),[{'criterion':['gini','entropy'],'random_state':[0]}]), \n",
    "               (RandomForestClassifier(),[{'n_estimators':[100,150,200],'criterion':['gini','entropy'],'random_state':[0]}])]"
   ]
  },
  {
   "cell_type": "code",
   "execution_count": 19,
   "id": "382db0eb-13f0-42ef-aba4-a8fe85663a6a",
   "metadata": {},
   "outputs": [
    {
     "name": "stdout",
     "output_type": "stream",
     "text": [
      " XGBClassifier(base_score=None, booster=None, callbacks=None,\n",
      "              colsample_bylevel=None, colsample_bynode=None,\n",
      "              colsample_bytree=None, early_stopping_rounds=None,\n",
      "              enable_categorical=False, eval_metric=None, feature_types=None,\n",
      "              gamma=None, gpu_id=None, grow_policy=None, importance_type=None,\n",
      "              interaction_constraints=None, learning_rate=None, max_bin=None,\n",
      "              max_cat_threshold=None, max_cat_to_onehot=None,\n",
      "              max_delta_step=None, max_depth=None, max_leaves=None,\n",
      "              min_child_weight=None, missing=nan, monotone_constraints=None,\n",
      "              n_estimators=100, n_jobs=None, num_parallel_tree=None,\n",
      "              predictor=None, random_state=None, ...): \n",
      " Best Accuracy: 97.00 %\n",
      "\n",
      "-------------------------\n",
      "\n",
      " KNeighborsClassifier(): \n",
      " Best Accuracy: 90.71 %\n",
      "\n",
      "-------------------------\n",
      "\n",
      " DecisionTreeClassifier(): \n",
      " Best Accuracy: 95.20 %\n",
      "\n",
      "-------------------------\n",
      "\n",
      " RandomForestClassifier(): \n",
      " Best Accuracy: 97.23 %\n",
      "\n",
      "-------------------------\n",
      "\n"
     ]
    }
   ],
   "source": [
    "for i,j in grid_models:\n",
    "    grid = GridSearchCV(estimator=i,param_grid = j, scoring = 'accuracy',cv = 10)\n",
    "    grid.fit(X_train_res,y_train_res)\n",
    "    best_accuracy = grid.best_score_\n",
    "    best_param = grid.best_params_\n",
    "    print(' {}: \\n Best Accuracy: {:.2f} %'.format(i,best_accuracy*100))\n",
    "    print('')\n",
    "    print('-'*25)\n",
    "    print('')"
   ]
  },
  {
   "cell_type": "code",
   "execution_count": 20,
   "id": "f4646092-cd37-4568-8e07-daf0d222e837",
   "metadata": {},
   "outputs": [
    {
     "name": "stdout",
     "output_type": "stream",
     "text": [
      "              precision    recall  f1-score   support\n",
      "\n",
      "           0       0.95      1.00      0.97       968\n",
      "           1       0.57      0.07      0.13        54\n",
      "\n",
      "    accuracy                           0.95      1022\n",
      "   macro avg       0.76      0.54      0.55      1022\n",
      "weighted avg       0.93      0.95      0.93      1022\n",
      "\n",
      "ROC AUC score: 0.785563973063973\n",
      "Accuracy Score:  0.9481409001956947\n"
     ]
    },
    {
     "data": {
      "image/png": "[encoded data removed]",
      "text/plain": [
       "<Figure size 800x500 with 1 Axes>"
      ]
     },
     "metadata": {},
     "output_type": "display_data"
    },
    {
     "data": {
      "text/plain": [
       "Text(0.5, 0, 'False Positive Rate')"
      ]
     },
     "execution_count": 20,
     "metadata": {},
     "output_type": "execute_result"
    },
    {
     "data": {
      "image/png": "[encoded data removed]",
      "text/plain": [
       "<Figure size 800x800 with 1 Axes>"
      ]
     },
     "metadata": {},
     "output_type": "display_data"
    }
   ],
   "source": [
    "classifier = XGBClassifier(eval_metric= 'error', learning_rate= 0.1)\n",
    "classifier.fit(X_train_res, y_train_res)\n",
    "y_pred = classifier.predict(X_test)\n",
    "y_prob = classifier.predict_proba(X_test)[:,1]\n",
    "cm = confusion_matrix(y_test, y_pred)\n",
    "\n",
    "print(classification_report(y_test, y_pred))\n",
    "print(f'ROC AUC score: {roc_auc_score(y_test, y_prob)}')\n",
    "print('Accuracy Score: ',accuracy_score(y_test, y_pred))\n",
    "\n",
    "# Visualizing Confusion Matrix\n",
    "plt.figure(figsize = (8, 5))\n",
    "sns.heatmap(cm, cmap = 'Blues', annot = True, fmt = 'd', linewidths = 5, cbar = False, annot_kws = {'fontsize': 15}, \n",
    "            yticklabels = ['No stroke', 'Stroke'], xticklabels = ['Predicted no stroke', 'Predicted stroke'])\n",
    "plt.yticks(rotation = 0)\n",
    "plt.show()\n",
    "\n",
    "# Roc Curve\n",
    "false_positive_rate, true_positive_rate, thresholds = roc_curve(y_test, y_prob)\n",
    "roc_auc = auc(false_positive_rate, true_positive_rate)\n",
    "\n",
    "sns.set_theme(style = 'white')\n",
    "plt.figure(figsize = (8, 8))\n",
    "plt.plot(false_positive_rate,true_positive_rate, color = '#b01717', label = 'AUC = %0.3f' % roc_auc)\n",
    "plt.legend(loc = 'lower right')\n",
    "plt.plot([0, 1], [0, 1], linestyle = '--', color = '#174ab0')\n",
    "plt.axis('tight')\n",
    "plt.ylabel('True Positive Rate')\n",
    "plt.xlabel('False Positive Rate')"
   ]
  }
 ],
 "metadata": {
  "kernelspec": {
   "display_name": "Python 3 (ipykernel)",
   "language": "python",
   "name": "python3"
  },
  "language_info": {
   "codemirror_mode": {
    "name": "ipython",
    "version": 3
   },
   "file_extension": ".py",
   "mimetype": "text/x-python",
   "name": "python",
   "nbconvert_exporter": "python",
   "pygments_lexer": "ipython3",
   "version": "3.9.13"
  }
 },
 "nbformat": 4,
 "nbformat_minor": 5
}
